{
 "cells": [
  {
   "cell_type": "markdown",
   "metadata": {},
   "source": [
    "## 概要\n",
    "---\n",
    "\n",
    "### 使用逆矩阵方法\n",
    "\n",
    "这里我们通过 TensorFlow 中的矩阵逆方法来实现二维线性回归。\n",
    "\n",
    "### 模型\n",
    "\n",
    "给定 $A*x = b$ 我们可通过如下步骤求解 x：\n",
    "\n",
    "$(t(A) * A) * x = t(A) * b$\n",
    "\n",
    "$x = (t(A) * A)^{-1} * t(A) * b$\n",
    "\n",
    "这里，注意 t(A) 是 A 的转置。\n",
    "\n",
    "## 线性回归：逆矩阵法\n",
    "\n",
    "本节探讨如何使用 TensorFlow 逆矩阵来完成线性回归。\n",
    "\n",
    "给定该系统 $A \\cdot x = y$，线性回归的逆矩阵方法（超定系统的方程式）可用来解决如下问题：$$x = (A^T \\cdot A)^{-1} \\cdot A^T \\cdot y$$\n",
    "\n",
    "注意：$x$ 是参数矩阵（长度为 $F+1$ 的向量，$F$ 是特征数）；矩阵 A 有如下形式：\n",
    "\n",
    "$$A = \n",
    "\\begin{bmatrix}\n",
    "  1 & x_{11} & x_{12} & \\cdots & x_{1F} \\\\\n",
    "  1 & x_{21} & x_{22} & \\cdots & x_{2F} \\\\\n",
    "  \\vdots & \\vdots & \\vdots & \\ddots & \\vdots \\\\\n",
    "  1 & x_{n1} & x_{n2} & \\cdots & x_{nF}\n",
    "\\end{bmatrix}\n",
    "$$\n",
    "\n",
    "$F$ 是独立特征数，$n$ 是点数。对于超定系统，$n>F$。请记住我们系统中的一个观察点的长度将为 $F+1$，第 $i^{th}$ 个点如下：\n",
    "\n",
    "$$point_i = (y_i, x_{i1}, x_{i2}, \\cdots, x_{iF})$$\n",
    "\n",
    "本节，我们将只考虑一个二维系统（$F=1$）,这样我们将在稍后画图。\n",
    "\n",
    "好了，加载必要的库："
   ]
  },
  {
   "cell_type": "code",
   "execution_count": 1,
   "metadata": {
    "collapsed": true
   },
   "outputs": [],
   "source": [
    "import matplotlib.pyplot as plt\n",
    "import numpy as np\n",
    "import tensorflow as tf\n",
    "from tensorflow.python.framework import ops\n",
    "ops.reset_default_graph()"
   ]
  },
  {
   "cell_type": "markdown",
   "metadata": {},
   "source": [
    "启动会话："
   ]
  },
  {
   "cell_type": "code",
   "execution_count": 2,
   "metadata": {
    "collapsed": true
   },
   "outputs": [],
   "source": [
    "sess= tf.Session()"
   ]
  },
  {
   "cell_type": "markdown",
   "metadata": {},
   "source": [
    "为了说明目的，我们随机生成数据以拟合。\n",
    "\n",
    "x-values 将是 0 到 100 之间的 100 个均匀间隔值的序列。\n",
    "\n",
    "y-values 将拟合这条线：$y=x$，但我们将根据 $N(0, 1)$ 加上正态分布的误差值。"
   ]
  },
  {
   "cell_type": "code",
   "execution_count": 15,
   "metadata": {},
   "outputs": [],
   "source": [
    "# Create the data\n",
    "x_vals = np.linspace(0, 10, 100)\n",
    "y_vals = x_vals + np.random.normal(0, 1, 100)"
   ]
  },
  {
   "cell_type": "markdown",
   "metadata": {},
   "source": [
    "我们创建设计矩阵 A，它将是一列 1 和 x-values。"
   ]
  },
  {
   "cell_type": "code",
   "execution_count": 14,
   "metadata": {},
   "outputs": [],
   "source": [
    "# Create design matrix\n",
    "x_vals_column = np.transpose(np.matrix(x_vals))\n",
    "ones_column = np.transpose(np.matrix(np.repeat(1, 100)))\n",
    "A = np.column_stack((x_vals_column, ones_column))"
   ]
  },
  {
   "cell_type": "markdown",
   "metadata": {},
   "source": [
    "现在我们使用 numpy 创建矩阵 y-values。\n",
    "\n",
    "有了 y-values 和设计矩阵，我们从他们创建 tensor。"
   ]
  },
  {
   "cell_type": "code",
   "execution_count": 7,
   "metadata": {
    "collapsed": true
   },
   "outputs": [],
   "source": [
    "# 格式化矩阵 y\n",
    "y = np.transpose(np.matrix(y_vals))\n",
    "\n",
    "# 创建 tensor\n",
    "A_tensor = tf.constant(A)\n",
    "y_tensor = tf.constant(y)"
   ]
  },
  {
   "cell_type": "markdown",
   "metadata": {},
   "source": [
    "现在我们使用 tensorflow 操作求解参数矩阵。"
   ]
  },
  {
   "cell_type": "code",
   "execution_count": 8,
   "metadata": {
    "collapsed": true
   },
   "outputs": [],
   "source": [
    "# 矩阵逆求解\n",
    "tA_A = tf.matmul(tf.transpose(A_tensor), A_tensor)\n",
    "tA_A_inv = tf.matrix_inverse(tA_A)\n",
    "product = tf.matmul(tA_A_inv, tf.transpose(A_tensor))\n",
    "solution = tf.matmul(product, y_tensor)"
   ]
  },
  {
   "cell_type": "markdown",
   "metadata": {},
   "source": [
    "运行 solution，并从参数矩阵中提取斜率和截距。"
   ]
  },
  {
   "cell_type": "code",
   "execution_count": 9,
   "metadata": {
    "collapsed": true
   },
   "outputs": [],
   "source": [
    "solution_eval = sess.run(solution)\n",
    "\n",
    "# 提取系数\n",
    "slope = solution_eval[0][0]\n",
    "y_intercept = solution_eval[1][0]"
   ]
  },
  {
   "cell_type": "markdown",
   "metadata": {},
   "source": [
    "现在我们打印找到的 solution 并创建最佳拟合直线。"
   ]
  },
  {
   "cell_type": "code",
   "execution_count": 12,
   "metadata": {},
   "outputs": [
    {
     "name": "stdout",
     "output_type": "stream",
     "text": [
      "slope: 0.967783177769\n",
      "y_intercept: 0.171930574947\n"
     ]
    }
   ],
   "source": [
    "print('slope: ' + str(slope))\n",
    "print('y_intercept: ' + str(y_intercept))\n",
    "\n",
    "# 获得最佳拟合直线\n",
    "best_fit = []\n",
    "for i in x_vals:\n",
    "    best_fit.append(slope * i + y_intercept)"
   ]
  },
  {
   "cell_type": "markdown",
   "metadata": {},
   "source": [
    "绘图："
   ]
  },
  {
   "cell_type": "code",
   "execution_count": 13,
   "metadata": {},
   "outputs": [
    {
     "data": {
      "image/png": "[encoded data removed]",
      "text/plain": [
       "<matplotlib.figure.Figure at 0x1168e1400>"
      ]
     },
     "metadata": {},
     "output_type": "display_data"
    }
   ],
   "source": [
    "# 绘制结果\n",
    "plt.plot(x_vals, y_vals, 'o', label='Data')\n",
    "plt.plot(x_vals, best_fit, 'r-', label='Best fit line', linewidth=3)\n",
    "plt.legend(loc='upper left')\n",
    "plt.show()"
   ]
  }
 ],
 "metadata": {
  "kernelspec": {
   "display_name": "Python 3",
   "language": "python",
   "name": "python3"
  },
  "language_info": {
   "codemirror_mode": {
    "name": "ipython",
    "version": 3
   },
   "file_extension": ".py",
   "mimetype": "text/x-python",
   "name": "python",
   "nbconvert_exporter": "python",
   "pygments_lexer": "ipython3",
   "version": "3.6.2"
  }
 },
 "nbformat": 4,
 "nbformat_minor": 2
}
