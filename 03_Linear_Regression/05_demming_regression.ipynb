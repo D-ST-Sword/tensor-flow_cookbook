{
 "cells": [
  {
   "cell_type": "markdown",
   "metadata": {},
   "source": [
    "# 戴明回归（Deming Regression）\n",
    "---\n",
    "\n",
    "本节介绍如何使用 Tensorflow 进行线性戴明回归。$$y=Ax+b$$\n",
    "\n",
    "我们使用 iris 数据，具体来说：\n",
    "\n",
    "$y = Sepal Length$\n",
    "\n",
    "$x = Petal Width$\n",
    "\n",
    "戴明回归也被称为最小二乘法，它最小化了实际点集（x, y）与预测线的最短距离。\n",
    "\n",
    "如果说最小二乘线性回归最小化点集到线路的垂直距离，戴明回归最小化点集到线路的总距离。这种回归最小化了y值和x值的误差。参见下图进行比较。\n",
    "\n",
    "![05](05_demming_vs_linear_reg.png)\n",
    "\n",
    "为在 Tensorflow 中实现戴明回归，我们码之："
   ]
  },
  {
   "cell_type": "code",
   "execution_count": 1,
   "metadata": {
    "collapsed": true
   },
   "outputs": [],
   "source": [
    "import matplotlib.pyplot as plt\n",
    "import numpy as np\n",
    "import tensorflow as tf\n",
    "from sklearn import datasets\n",
    "from tensorflow.python.framework import ops\n",
    "ops.reset_default_graph()"
   ]
  },
  {
   "cell_type": "markdown",
   "metadata": {},
   "source": [
    "启动图（会话）"
   ]
  },
  {
   "cell_type": "code",
   "execution_count": 2,
   "metadata": {
    "collapsed": true
   },
   "outputs": [],
   "source": [
    "sess = tf.Session()"
   ]
  },
  {
   "cell_type": "markdown",
   "metadata": {},
   "source": [
    "加载 iris 数据"
   ]
  },
  {
   "cell_type": "code",
   "execution_count": 3,
   "metadata": {
    "collapsed": true
   },
   "outputs": [],
   "source": [
    "# Load the data\n",
    "# iris.data = [(Sepal Length, Sepal Width, Petal Length, Petal Width)]\n",
    "iris = datasets.load_iris()\n",
    "x_vals = np.array([x[3] for x in iris.data]) # Petal Width\n",
    "y_vals = np.array([y[0] for y in iris.data]) # Sepal Length"
   ]
  },
  {
   "cell_type": "markdown",
   "metadata": {},
   "source": [
    "接下来我们声明批量大小，模型占位符，模型变量和模型操作。"
   ]
  },
  {
   "cell_type": "code",
   "execution_count": 4,
   "metadata": {
    "collapsed": true
   },
   "outputs": [],
   "source": [
    "# Declare batch size\n",
    "batch_size = 125\n",
    "\n",
    "# Initialize placeholders\n",
    "x_data = tf.placeholder(shape=[None, 1], dtype=tf.float32)\n",
    "y_target = tf.placeholder(shape=[None, 1], dtype=tf.float32)\n",
    "\n",
    "# Create variables for linear regression\n",
    "A = tf.Variable(tf.random_normal(shape=[1, 1]))\n",
    "b = tf.Variable(tf.random_normal(shape=[1, 1]))\n",
    "\n",
    "# Declare model oprations\n",
    "model_output = tf.add(tf.matmul(x_data, A), b)"
   ]
  },
  {
   "cell_type": "markdown",
   "metadata": {},
   "source": [
    "对于戴明损失，我们通过计算：$$\\frac{\\left|A \\cdot x + b - y \\right|}{\\sqrt{A^2 + 1}}$$\n",
    "\n",
    "来获得点 $(x, y)$ 到线 $A \\cdot x + b$ 的最短距离。"
   ]
  },
  {
   "cell_type": "code",
   "execution_count": 5,
   "metadata": {
    "collapsed": true
   },
   "outputs": [],
   "source": [
    "# Declare Deming loss function\n",
    "demming_numerator = tf.abs(tf.subtract(tf.add(tf.matmul(x_data, A), b), y_target))\n",
    "demming_denominator = tf.sqrt(tf.add(tf.square(A), 1))\n",
    "loss = tf.reduce_mean(tf.truediv(demming_numerator, demming_denominator))"
   ]
  },
  {
   "cell_type": "markdown",
   "metadata": {},
   "source": [
    "接下来声明优化函数和初始化所有的模型变量。"
   ]
  },
  {
   "cell_type": "code",
   "execution_count": 6,
   "metadata": {
    "collapsed": true
   },
   "outputs": [],
   "source": [
    "# Declare optimizer\n",
    "my_opt = tf.train.GradientDescentOptimizer(0.25)\n",
    "train_step = my_opt.minimize(loss)\n",
    "\n",
    "# Initialize variables\n",
    "init = tf.global_variables_initializer()\n",
    "sess.run(init)"
   ]
  },
  {
   "cell_type": "markdown",
   "metadata": {},
   "source": [
    "现在我们迭代训练我们的戴明回归："
   ]
  },
  {
   "cell_type": "code",
   "execution_count": 7,
   "metadata": {},
   "outputs": [
    {
     "name": "stdout",
     "output_type": "stream",
     "text": [
      "Step #100 A = [[ 4.66099882]] b = [[-0.42800054]]\n",
      "Loss = 0.529913\n",
      "Step #200 A = [[ 4.40871525]] b = [[-0.08376063]]\n",
      "Loss = 0.503048\n",
      "Step #300 A = [[ 4.14317274]] b = [[ 0.32716805]]\n",
      "Loss = 0.503168\n",
      "Step #400 A = [[ 3.79107738]] b = [[ 0.76632339]]\n",
      "Loss = 0.531407\n",
      "Step #500 A = [[ 3.40863156]] b = [[ 1.32006097]]\n",
      "Loss = 0.474852\n",
      "Step #600 A = [[ 2.88439441]] b = [[ 1.98239231]]\n",
      "Loss = 0.489793\n",
      "Step #700 A = [[ 2.32621956]] b = [[ 2.85320091]]\n",
      "Loss = 0.419735\n",
      "Step #800 A = [[ 1.35490215]] b = [[ 4.13275337]]\n",
      "Loss = 0.287827\n",
      "Step #900 A = [[ 1.02934241]] b = [[ 4.59995079]]\n",
      "Loss = 0.303334\n",
      "Step #1000 A = [[ 1.0225358]] b = [[ 4.5943985]]\n",
      "Loss = 0.281544\n",
      "Step #1100 A = [[ 1.0114094]] b = [[ 4.61519718]]\n",
      "Loss = 0.275887\n",
      "Step #1200 A = [[ 1.04761398]] b = [[ 4.57552052]]\n",
      "Loss = 0.255057\n",
      "Step #1300 A = [[ 0.98889214]] b = [[ 4.62074947]]\n",
      "Loss = 0.244442\n",
      "Step #1400 A = [[ 1.02565086]] b = [[ 4.68061113]]\n",
      "Loss = 0.202106\n",
      "Step #1500 A = [[ 1.01795781]] b = [[ 4.60405636]]\n",
      "Loss = 0.242925\n"
     ]
    }
   ],
   "source": [
    "# Training loop\n",
    "loss_vec = []\n",
    "for i in range(1500):\n",
    "    rand_index = np.random.choice(len(x_vals), size=batch_size)\n",
    "    rand_x = np.transpose([x_vals[rand_index]])\n",
    "    rand_y = np.transpose([y_vals[rand_index]])\n",
    "    sess.run(train_step, feed_dict={x_data: rand_x, y_target: rand_y})\n",
    "    temp_loss = sess.run(loss, feed_dict={x_data: rand_x, y_target: rand_y})\n",
    "    loss_vec.append(temp_loss)\n",
    "    if (i+1) % 100 == 0:\n",
    "        print('Step #' + str(i+1) + ' A = ' + str(sess.run(A)) + ' b = ' + str(sess.run(b)))\n",
    "        print('Loss = ' + str(temp_loss))"
   ]
  },
  {
   "cell_type": "markdown",
   "metadata": {},
   "source": [
    "获取最优系数（斜率和截距）"
   ]
  },
  {
   "cell_type": "code",
   "execution_count": 10,
   "metadata": {
    "collapsed": true
   },
   "outputs": [],
   "source": [
    "# Get the optimal coefficients\n",
    "[slope] = sess.run(A)\n",
    "[y_intercept] = sess.run(b)\n",
    "\n",
    "# Get best fit line\n",
    "best_fit = []\n",
    "for i in x_vals:\n",
    "    best_fit.append(slope*i+y_intercept)"
   ]
  },
  {
   "cell_type": "markdown",
   "metadata": {},
   "source": [
    "好了，接下来使用 matplotlib 来绘制最佳拟合戴明回归线和戴明损失。"
   ]
  },
  {
   "cell_type": "code",
   "execution_count": 11,
   "metadata": {},
   "outputs": [
    {
     "data": {
      "image/png": "[encoded data removed]",
      "text/plain": [
       "<matplotlib.figure.Figure at 0x1194bb550>"
      ]
     },
     "metadata": {},
     "output_type": "display_data"
    },
    {
     "data": {
      "image/png": "[encoded data removed]",
      "text/plain": [
       "<matplotlib.figure.Figure at 0x11989b3c8>"
      ]
     },
     "metadata": {},
     "output_type": "display_data"
    }
   ],
   "source": [
    "# Plot the result\n",
    "plt.plot(x_vals, y_vals, 'o', label='Data Points')\n",
    "plt.plot(x_vals, best_fit, 'r-', label='Best fit line', linewidth=3)\n",
    "plt.legend(loc='upper left')\n",
    "plt.title('Sepal Length vs Pedal Width')\n",
    "plt.xlabel('Pedal Width')\n",
    "plt.ylabel('Sepal Length')\n",
    "plt.show()\n",
    "\n",
    "# Plot loss over time\n",
    "plt.plot(loss_vec, 'k-')\n",
    "plt.title('Demming Loss per Generation')\n",
    "plt.xlabel('Iteration')\n",
    "plt.ylabel('Demming Loss')\n",
    "plt.show()"
   ]
  }
 ],
 "metadata": {
  "kernelspec": {
   "display_name": "Python 3",
   "language": "python",
   "name": "python3"
  },
  "language_info": {
   "codemirror_mode": {
    "name": "ipython",
    "version": 3
   },
   "file_extension": ".py",
   "mimetype": "text/x-python",
   "name": "python",
   "nbconvert_exporter": "python",
   "pygments_lexer": "ipython3",
   "version": "3.6.2"
  }
 },
 "nbformat": 4,
 "nbformat_minor": 2
}
