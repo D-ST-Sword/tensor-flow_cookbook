{
 "cells": [
  {
   "cell_type": "markdown",
   "metadata": {},
   "source": [
    "## 使用 Cholesky 分解法\n",
    "---\n",
    "\n",
    "在这里，我们通过 TensorFlow 中的 Cholesky 分解来实现 2D 线性回归求解。\n",
    "\n",
    "## 模型\n",
    "---\n",
    "\n",
    "给定 $A * x = b$ 和 Cholesky 分解使得 $A=L*L$，那么我们可以得到 $x$ 的解：\n",
    "\n",
    "1. 为 y 求解：$L*y = t(A) * b$\n",
    "2. 为 x 求解：$L' * x = y$\n",
    "\n",
    "# 线性回归：Cholesky 分解法\n",
    "---\n",
    "\n",
    "本节将使用 TensorFlow 的函数 tf.cholesky() 来分解我们的设计矩阵，并从线性回归求解参数矩阵。\n",
    "\n",
    "对于线性回归，我们给出了系统 $A \\cdot x = y$。在这里，$A$ 是我们的设计矩阵，$x$ 是我们的参数矩阵（of interest），$y$ 是我们的目标矩阵（依赖值）。\n",
    "\n",
    "为使 Cholesky 分解能起作用我们假定 $A$ 可分解为一个下三角矩阵 $L$ 和这个相同矩阵的转置 $L^T$ 的乘积。\n",
    "\n",
    "请注意这是当 A 是 square时。当然，对于一个确定的系统，A 不是 square。所以我们考虑使用 product $A^T \\cdot A$ 替换。我们假设： $$A^T \\cdot A = L^T \\cdot L$$\n",
    "\n",
    "更多的关于 Cholesky 分解和其使用信息，请参考 wikipedia 的链接：[Cholesky 分解](https://en.wikipedia.org/wiki/Cholesky_decomposition)\n",
    "\n",
    "给定 $A$ 有唯一的 Cholesky 分解，我们可以这样写线性回归系统：$$L^T \\cdot L \\cdot x = A^T \\cdot y$$\n",
    "\n",
    "然后我们这样分解这个系统：$$L^T \\cdot z = A^T \\cdot y$$\n",
    "\n",
    "和 $$L \\cdot x = z$$\n",
    "\n",
    "求解 $x$ 的步骤如下：\n",
    "\n",
    "1. 计算 A 的 Cholesky 分解，其中：$A^T \\cdot A = L^T \\cdot L$。\n",
    "2. 对 $L^T \\cdot z = A^T \\cdot y$ 求解 $z$。\n",
    "3. 最终，对 $L \\cdot x = z$ 求解 $x$。\n",
    "\n",
    "好了，开始吧："
   ]
  },
  {
   "cell_type": "code",
   "execution_count": 1,
   "metadata": {
    "collapsed": true
   },
   "outputs": [],
   "source": [
    "import matplotlib.pyplot as plt\n",
    "import numpy as np\n",
    "import tensorflow as tf\n",
    "from tensorflow.python.framework import ops\n",
    "ops.reset_default_graph()"
   ]
  },
  {
   "cell_type": "markdown",
   "metadata": {},
   "source": [
    "接下来创建图会话"
   ]
  },
  {
   "cell_type": "code",
   "execution_count": 2,
   "metadata": {
    "collapsed": true
   },
   "outputs": [],
   "source": [
    "sess = tf.Session()"
   ]
  },
  {
   "cell_type": "markdown",
   "metadata": {},
   "source": [
    "我们使用和上一节相同的方法生成数据。"
   ]
  },
  {
   "cell_type": "code",
   "execution_count": 3,
   "metadata": {
    "collapsed": true
   },
   "outputs": [],
   "source": [
    "# 创建数据\n",
    "x_vals = np.linspace(0, 10, 100)\n",
    "y_vals = x_vals + np.random.normal(0, 1, 100)"
   ]
  },
  {
   "cell_type": "markdown",
   "metadata": {},
   "source": [
    "生成设计矩阵 A"
   ]
  },
  {
   "cell_type": "code",
   "execution_count": 4,
   "metadata": {
    "collapsed": true
   },
   "outputs": [],
   "source": [
    "# 创建设计矩阵\n",
    "x_vals_column = np.transpose(np.matrix(x_vals))\n",
    "ones_column = np.transpose(np.matrix(np.repeat(1, 100)))\n",
    "A = np.column_stack((x_vals_column, ones_column))"
   ]
  },
  {
   "cell_type": "markdown",
   "metadata": {},
   "source": [
    "接下来，创建 tensor"
   ]
  },
  {
   "cell_type": "code",
   "execution_count": 5,
   "metadata": {
    "collapsed": true
   },
   "outputs": [],
   "source": [
    "# 创建矩阵 y\n",
    "y = np.transpose(np.matrix(y_vals))\n",
    "\n",
    "# 创建 tensor\n",
    "A_tensor = tf.constant(A)\n",
    "y_tensor = tf.constant(y)"
   ]
  },
  {
   "cell_type": "markdown",
   "metadata": {},
   "source": [
    "现在我们计算矩阵 $A$ 的平方和 Cholesky 分解"
   ]
  },
  {
   "cell_type": "code",
   "execution_count": 6,
   "metadata": {
    "collapsed": true
   },
   "outputs": [],
   "source": [
    "# 查找 Cholesky 分解\n",
    "tA_A = tf.matmul(tf.transpose(A_tensor), A_tensor)\n",
    "L = tf.cholesky(tA_A)"
   ]
  },
  {
   "cell_type": "markdown",
   "metadata": {},
   "source": [
    "求解第一个方程。（见上述介绍部分中的步骤2）"
   ]
  },
  {
   "cell_type": "code",
   "execution_count": 8,
   "metadata": {
    "collapsed": true
   },
   "outputs": [],
   "source": [
    "# 求解 L*y = t(A) * b\n",
    "tA_y = tf.matmul(tf.transpose(A_tensor), y)\n",
    "sol1 = tf.matrix_solve(L, tA_y)"
   ]
  },
  {
   "cell_type": "markdown",
   "metadata": {},
   "source": [
    "最终通过求解第二个方程求解参数矩阵（见上述段落的步骤3）"
   ]
  },
  {
   "cell_type": "code",
   "execution_count": 9,
   "metadata": {
    "collapsed": true
   },
   "outputs": [],
   "source": [
    "# 求解 L' * y = soll\n",
    "sol2 = tf.matrix_solve(tf.transpose(L), sol1)\n",
    "solution_eval = sess.run(sol2)"
   ]
  },
  {
   "cell_type": "markdown",
   "metadata": {},
   "source": [
    "提取系数并生成最佳拟合直线。"
   ]
  },
  {
   "cell_type": "code",
   "execution_count": 11,
   "metadata": {},
   "outputs": [
    {
     "name": "stdout",
     "output_type": "stream",
     "text": [
      "slope: 1.00968189231\n",
      "y_intercept: 0.0626723382814\n"
     ]
    }
   ],
   "source": [
    "# 提取系数\n",
    "slope = solution_eval[0][0]\n",
    "y_intercept = solution_eval[1][0]\n",
    "\n",
    "print('slope: ' + str(slope))\n",
    "print('y_intercept: ' + str(y_intercept))\n",
    "\n",
    "# 获得最佳拟合直线\n",
    "best_fit = []\n",
    "for i in x_vals:\n",
    "    best_fit.append(slope * i + y_intercept)"
   ]
  },
  {
   "cell_type": "markdown",
   "metadata": {},
   "source": [
    "最终，我们绘制出结果："
   ]
  },
  {
   "cell_type": "code",
   "execution_count": 12,
   "metadata": {},
   "outputs": [
    {
     "data": {
      "image/png": "[encoded data removed]",
      "text/plain": [
       "<matplotlib.figure.Figure at 0x116331390>"
      ]
     },
     "metadata": {},
     "output_type": "display_data"
    }
   ],
   "source": [
    "# 绘制结果\n",
    "plt.plot(x_vals, y_vals, 'o', label='Data')\n",
    "plt.plot(x_vals, best_fit, 'r-', label='Best fit line', linewidth=3)\n",
    "plt.legend(loc='upper left')\n",
    "plt.show()"
   ]
  }
 ],
 "metadata": {
  "kernelspec": {
   "display_name": "Python 3",
   "language": "python",
   "name": "python3"
  },
  "language_info": {
   "codemirror_mode": {
    "name": "ipython",
    "version": 3
   },
   "file_extension": ".py",
   "mimetype": "text/x-python",
   "name": "python",
   "nbconvert_exporter": "python",
   "pygments_lexer": "ipython3",
   "version": "3.6.2"
  }
 },
 "nbformat": 4,
 "nbformat_minor": 2
}
