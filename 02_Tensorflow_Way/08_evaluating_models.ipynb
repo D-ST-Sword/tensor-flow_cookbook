{
 "cells": [
  {
   "cell_type": "markdown",
   "metadata": {},
   "source": [
    "# 评估模型\n",
    "---\n",
    "\n",
    "## 概要\n",
    "---\n",
    "\n",
    "这里我们将执行两个建模任务：回归和分类。我们将展示如何 在TensorFlow 算法中评估模型。\n",
    "\n",
    "## 回归模型\n",
    "---\n",
    "\n",
    "回归模型来自上一节。我们将生成以 Normal（mean = 1，sd = 0.1）和目标数据或重复10.0值分发的输入数据。该模型将优化乘法因子（理论上= 10）来预测目标数据。\n",
    "\n",
    "## 分类模型\n",
    "---\n",
    "\n",
    "分类模型将为 normal(mean = -1, sd = 1) 的一半值和 normal(mean = 2, sd = 1) 的一半值，在这分布中会有一些重叠。分类模型将对预测中间点进行优化，中间点可以既是分类界限。\n",
    "\n",
    "## 大纲\n",
    "---\n",
    "\n",
    "这个想法是我们想将标记的数据集分成训练和测试集。然后我们对测试集进行训练，并查看测试集的准确性。\n",
    "\n",
    "## 分类结果\n",
    "---\n",
    "\n",
    "这是分类结果可视化的直方图：\n",
    "![]()"
   ]
  },
  {
   "cell_type": "markdown",
   "metadata": {},
   "source": [
    "正文\n",
    "---\n",
    "\n",
    "这段代码将实现两个模型。第一个是一个简单的回归模型，我们将在训练期间展示如何调用损失函数MSE，并在测试和训练集之后输出。\n",
    "\n",
    "第二个模型将是一个简单的分类模型。我们还将展示如何打印测试和训练集分类的百分比。\n",
    "\n",
    "### 回归模型\n",
    "\n",
    "对于回归模型，我们将从 normal（mean = 1，sd = 0.1）生成100个随机样本。目标将是一个大小为100的数组，目标值为10.0。\n",
    "\n",
    "我们将拟合线性模型 $y = A \\cdot x$（没有 y 截距）。 A的理论值为10.0。\n",
    "\n",
    "加载必要的库并重置计算图。"
   ]
  },
  {
   "cell_type": "code",
   "execution_count": 1,
   "metadata": {
    "collapsed": true
   },
   "outputs": [],
   "source": [
    "import matplotlib.pyplot as plt\n",
    "import numpy as np\n",
    "import tensorflow as tf\n",
    "from tensorflow.python.framework import ops\n",
    "ops.reset_default_graph()"
   ]
  },
  {
   "cell_type": "markdown",
   "metadata": {},
   "source": [
    "启动图会话："
   ]
  },
  {
   "cell_type": "code",
   "execution_count": 2,
   "metadata": {
    "collapsed": true
   },
   "outputs": [],
   "source": [
    "sess = tf.Session()"
   ]
  },
  {
   "cell_type": "markdown",
   "metadata": {},
   "source": [
    "声明批量大小（batch size）："
   ]
  },
  {
   "cell_type": "code",
   "execution_count": 3,
   "metadata": {
    "collapsed": true
   },
   "outputs": [],
   "source": [
    "batch_size = 25"
   ]
  },
  {
   "cell_type": "markdown",
   "metadata": {},
   "source": [
    "## 生成回归数据\n",
    "\n",
    "这里我们生成回归所需的数据。我们还指定必要的占位符。\n",
    "\n",
    "然后我们将数据分解成 80-20 训练-测试切分。"
   ]
  },
  {
   "cell_type": "code",
   "execution_count": 4,
   "metadata": {
    "collapsed": true
   },
   "outputs": [],
   "source": [
    "# 生成数据\n",
    "x_vals = np.random.normal(1, 0.1, 100)\n",
    "y_vals = np.repeat(10., 100)\n",
    "x_data = tf.placeholder(shape=[None, 1], dtype=tf.float32)\n",
    "y_target = tf.placeholder(shape=[None, 1], dtype=tf.float32)\n",
    "\n",
    "# 切分数据为 训练/测试集 = 80%/20%\n",
    "train_indices = np.random.choice(len(x_vals), round(len(x_vals) * 0.8), replace=False)\n",
    "test_indices = np.array(list(set(range(len(x_vals))) - set(train_indices)))\n",
    "x_vals_train = x_vals[train_indices]\n",
    "x_vals_test = x_vals[test_indices]\n",
    "y_vals_train = y_vals[train_indices]\n",
    "y_vals_test = y_vals[test_indices]"
   ]
  },
  {
   "cell_type": "markdown",
   "metadata": {},
   "source": [
    "## 模型变量和操作\n",
    "\n",
    "我们创建模型变量 A 和乘法操作。"
   ]
  },
  {
   "cell_type": "code",
   "execution_count": 5,
   "metadata": {
    "collapsed": true
   },
   "outputs": [],
   "source": [
    "# 创建模型变量 A\n",
    "A = tf.Variable(tf.random_normal(shape=[1, 1]))\n",
    "\n",
    "# 添加操作到图\n",
    "my_output = tf.matmul(x_data, A)"
   ]
  },
  {
   "cell_type": "markdown",
   "metadata": {},
   "source": [
    "## 损失，优化函数，和变量初始化\n",
    "\n",
    "我们使用 L2 损失函数，标准梯度下降优化，学习率为0.02。"
   ]
  },
  {
   "cell_type": "code",
   "execution_count": 6,
   "metadata": {
    "collapsed": true
   },
   "outputs": [],
   "source": [
    "# 添加 L2 损失函数到图\n",
    "loss = tf.reduce_mean(tf.square(my_output - y_target))\n",
    "\n",
    "# 创建优化器\n",
    "my_opt = tf.train.GradientDescentOptimizer(0.02)\n",
    "train_step = my_opt.minimize(loss)\n",
    "\n",
    "# 初始化变量\n",
    "init = tf.global_variables_initializer()\n",
    "sess.run(init)"
   ]
  },
  {
   "cell_type": "markdown",
   "metadata": {},
   "source": [
    "## 运行回归\n",
    "\n",
    "我们通过培训步骤迭代100次，每次选择一批随机数据。"
   ]
  },
  {
   "cell_type": "code",
   "execution_count": 7,
   "metadata": {},
   "outputs": [
    {
     "name": "stdout",
     "output_type": "stream",
     "text": [
      "Step #25 A = [[ 6.70642376]]\n",
      "Loss = 12.4879\n",
      "Step #50 A = [[ 8.85753441]]\n",
      "Loss = 2.52929\n",
      "Step #75 A = [[ 9.65153217]]\n",
      "Loss = 1.24485\n",
      "Step #100 A = [[ 9.94890499]]\n",
      "Loss = 1.15033\n"
     ]
    }
   ],
   "source": [
    "# Run Loop\n",
    "for i in range(100):\n",
    "    rand_index = np.random.choice(len(x_vals_train), size=batch_size)\n",
    "    rand_x = np.transpose([x_vals_train[rand_index]])\n",
    "    rand_y = np.transpose([y_vals_train[rand_index]])\n",
    "    sess.run(train_step, feed_dict={x_data: rand_x, y_target: rand_y})\n",
    "    if (i+1)%25==0:\n",
    "        print('Step #' + str(i+1) + ' A = ' + str(sess.run(A)))\n",
    "        print('Loss = ' + str(sess.run(loss, feed_dict={x_data: rand_x, y_target: rand_y})))"
   ]
  },
  {
   "cell_type": "markdown",
   "metadata": {},
   "source": [
    "## 评估回归模型\n",
    "\n",
    "对回归模型评估，我们将运行训练和测试集的损失。"
   ]
  },
  {
   "cell_type": "code",
   "execution_count": 8,
   "metadata": {},
   "outputs": [
    {
     "name": "stdout",
     "output_type": "stream",
     "text": [
      "MSE on test:0.68\n",
      "MSE on train:1.17\n"
     ]
    }
   ],
   "source": [
    "# Evaluate accuracy (loss) on test set\n",
    "mse_test = sess.run(loss, feed_dict={x_data: np.transpose([x_vals_test]), y_target: np.transpose([y_vals_test])})\n",
    "mse_train = sess.run(loss, feed_dict={x_data: np.transpose([x_vals_train]), y_target: np.transpose([y_vals_train])})\n",
    "print('MSE on test:' + str(np.round(mse_test, 2)))\n",
    "print('MSE on train:' + str(np.round(mse_train, 2)))"
   ]
  },
  {
   "cell_type": "markdown",
   "metadata": {},
   "source": [
    "## 分类例子\n",
    "\n",
    "对分类模型，我们生成如下数据：\n",
    "\n",
    "输入数据是从 normal(mean = -1, sd = 1) 和 normal(mean = 1, sd = 1) 中各采样 50 个数据。\n",
    "\n",
    "目标数据是 50 个 0 和 50 个 1。\n",
    "\n",
    "我们拟合二进制分类模型：\n",
    "\n",
    "- 如果 $sigmoid(x + A) < 0.5$，我们推断为 0\n",
    "- 吐过 $sigmoid(x + A) >= 0.5$，我们推断为 1\n",
    "\n",
    "理论上 A 应该是：\n",
    "\n",
    "$$- \\frac{mean1 + mean2}{2} = 0$$\n",
    "\n",
    "好了，现在重置图："
   ]
  },
  {
   "cell_type": "code",
   "execution_count": 9,
   "metadata": {
    "collapsed": true
   },
   "outputs": [],
   "source": [
    "ops.reset_default_graph()"
   ]
  },
  {
   "cell_type": "markdown",
   "metadata": {},
   "source": [
    "创建图会话："
   ]
  },
  {
   "cell_type": "code",
   "execution_count": 10,
   "metadata": {
    "collapsed": true
   },
   "outputs": [],
   "source": [
    "sess = tf.Session()"
   ]
  },
  {
   "cell_type": "markdown",
   "metadata": {},
   "source": [
    "声明批量大小："
   ]
  },
  {
   "cell_type": "code",
   "execution_count": 11,
   "metadata": {
    "collapsed": true
   },
   "outputs": [],
   "source": [
    "batch_size = 25"
   ]
  },
  {
   "cell_type": "markdown",
   "metadata": {},
   "source": [
    "## 生成分类数据和目标数据\n",
    "\n",
    "我们如上所述生成分类数据。然后我们创建必要的占位符。\n",
    "\n",
    "然后，我们切分数据为 80-20 训练/测试集。"
   ]
  },
  {
   "cell_type": "code",
   "execution_count": 12,
   "metadata": {
    "collapsed": true
   },
   "outputs": [],
   "source": [
    "# Create data\n",
    "x_vals = np.concatenate((np.random.normal(-1, 1, 50), np.random.normal(2, 1, 50)))\n",
    "y_vals = np.concatenate((np.repeat(0., 50), np.repeat(1., 50)))\n",
    "x_data = tf.placeholder(shape=[1, None], dtype=tf.float32)\n",
    "y_target = tf.placeholder(shape=[1, None], dtype=tf.float32)\n",
    "\n",
    "# Split data into train/test = 80%/20%\n",
    "train_indices = np.random.choice(len(x_vals), round(len(x_vals)*0.8), replace=False)\n",
    "test_indices = np.array(list(set(range(len(x_vals))) - set(train_indices)))\n",
    "x_vals_train = x_vals[train_indices]\n",
    "x_vals_test = x_vals[test_indices]\n",
    "y_vals_train = y_vals[train_indices]\n",
    "y_vals_test = y_vals[test_indices]"
   ]
  },
  {
   "cell_type": "markdown",
   "metadata": {},
   "source": [
    "## 模型变量和操作\n",
    "\n",
    "我们创建模型变量 A 和模型操作，它是将 A 添加到输入数据。请注意，我们不将 sigmoid() 函数放在这里，因为它将被包含在损失函数中。这也意味着对于预测，我们将需要包含 sigmoid 函数。"
   ]
  },
  {
   "cell_type": "code",
   "execution_count": 13,
   "metadata": {
    "collapsed": true
   },
   "outputs": [],
   "source": [
    "# Create variable (one model parameter = A)\n",
    "A = tf.Variable(tf.random_normal(mean=10, shape=[1]))\n",
    "\n",
    "# Add operation to graph\n",
    "# Want to create the operstion sigmoid(x + A)\n",
    "# Note, the sigmoid() part is in the loss function\n",
    "my_output = tf.add(x_data, A)"
   ]
  },
  {
   "cell_type": "markdown",
   "metadata": {},
   "source": [
    "## 损失，优化函数，和变量初始化\n",
    "\n",
    "损失函数选用 sigmoid-cross-entropy。我们使用 reduce_mean() 来封装损失函数以便在全批次数据中减少 sigmoid-cross-entropy。\n",
    "\n",
    "我们使用的优化函数仍是标准梯度下降优化，学习率为0.05。"
   ]
  },
  {
   "cell_type": "code",
   "execution_count": 15,
   "metadata": {},
   "outputs": [],
   "source": [
    "# Add classification loss (cross entropy)\n",
    "xentropy = tf.reduce_mean(tf.nn.sigmoid_cross_entropy_with_logits(logits=my_output, labels=y_target))\n",
    "\n",
    "# Create Optimizer\n",
    "my_opt = tf.train.GradientDescentOptimizer(0.05)\n",
    "train_step = my_opt.minimize(xentropy)\n",
    "\n",
    "# Initialize variables\n",
    "init = tf.global_variables_initializer()\n",
    "sess.run(init)"
   ]
  },
  {
   "cell_type": "markdown",
   "metadata": {},
   "source": [
    "## 运行分类\n",
    "\n",
    "我们迭代 1800 次分类训练操作，并且每200次迭代一次打印出 A 值和损失值。"
   ]
  },
  {
   "cell_type": "code",
   "execution_count": 16,
   "metadata": {},
   "outputs": [
    {
     "name": "stdout",
     "output_type": "stream",
     "text": [
      "Step #200 A = [ 7.01122999]\n",
      "Loss = 3.31835\n",
      "Step #400 A = [ 2.73941112]\n",
      "Loss = 0.354624\n",
      "Step #600 A = [ 0.50843418]\n",
      "Loss = 0.316609\n",
      "Step #800 A = [-0.10985172]\n",
      "Loss = 0.330854\n",
      "Step #1000 A = [-0.23218325]\n",
      "Loss = 0.299426\n",
      "Step #1200 A = [-0.23459852]\n",
      "Loss = 0.260422\n",
      "Step #1400 A = [-0.26495484]\n",
      "Loss = 0.227307\n",
      "Step #1600 A = [-0.2499817]\n",
      "Loss = 0.206538\n",
      "Step #1800 A = [-0.29281732]\n",
      "Loss = 0.273244\n"
     ]
    }
   ],
   "source": [
    "# Run loop\n",
    "for i in range(1800):\n",
    "    rand_index = np.random.choice(len(x_vals_train), size=batch_size)\n",
    "    rand_x = [x_vals_train[rand_index]]\n",
    "    rand_y = [y_vals_train[rand_index]]\n",
    "    sess.run(train_step, feed_dict={x_data: rand_x, y_target: rand_y})\n",
    "    if (i+1)%200==0:\n",
    "        print('Step #' + str(i+1) + ' A = ' + str(sess.run(A)))\n",
    "        print('Loss = ' + str(sess.run(xentropy, feed_dict={x_data: rand_x, y_target: rand_y})))"
   ]
  },
  {
   "cell_type": "markdown",
   "metadata": {},
   "source": [
    "## 评估分类结果"
   ]
  },
  {
   "cell_type": "code",
   "execution_count": 20,
   "metadata": {},
   "outputs": [
    {
     "name": "stdout",
     "output_type": "stream",
     "text": [
      "Accuracy on train set: 0.925\n",
      "Accuracy on test set: 1.0\n"
     ]
    },
    {
     "data": {
      "image/png": "[encoded data removed]",
      "text/plain": [
       "<matplotlib.figure.Figure at 0x1115adbe0>"
      ]
     },
     "metadata": {},
     "output_type": "display_data"
    }
   ],
   "source": [
    "# Evaluate Predictions on test set\n",
    "y_prediction = tf.squeeze(tf.round(tf.nn.sigmoid(tf.add(x_data, A))))\n",
    "correct_prediction = tf.equal(y_prediction, y_target)\n",
    "accuracy = tf.reduce_mean(tf.cast(correct_prediction, tf.float32))\n",
    "acc_value_test = sess.run(accuracy, feed_dict={x_data: [x_vals_test], y_target: [y_vals_test]})\n",
    "acc_value_train = sess.run(accuracy, feed_dict={x_data: [x_vals_train], y_target: [y_vals_train]})\n",
    "print('Accuracy on train set: ' + str(acc_value_train))\n",
    "print('Accuracy on test set: ' + str(acc_value_test))\n",
    "\n",
    "# Plot classification result\n",
    "A_result = -sess.run(A)\n",
    "bins = np.linspace(-5, 5, 50)\n",
    "plt.hist(x_vals[0:50], bins, alpha=0.5, label='N(-1,1)', color='gray')\n",
    "plt.hist(x_vals[50:100], bins[0:50], alpha=0.5, label='N(2,1)', color='red')\n",
    "plt.plot((A_result, A_result), (0, 8), 'k--', linewidth=3, label='A = '+ str(np.round(A_result, 2)))\n",
    "plt.legend(loc='upper right')\n",
    "plt.title('Binary Classifier, Accuracy=' + str(np.round(acc_value_test, 2)))\n",
    "plt.show()"
   ]
  }
 ],
 "metadata": {
  "kernelspec": {
   "display_name": "Python 3",
   "language": "python",
   "name": "python3"
  },
  "language_info": {
   "codemirror_mode": {
    "name": "ipython",
    "version": 3
   },
   "file_extension": ".py",
   "mimetype": "text/x-python",
   "name": "python",
   "nbconvert_exporter": "python",
   "pygments_lexer": "ipython3",
   "version": "3.6.2"
  }
 },
 "nbformat": 4,
 "nbformat_minor": 2
}
