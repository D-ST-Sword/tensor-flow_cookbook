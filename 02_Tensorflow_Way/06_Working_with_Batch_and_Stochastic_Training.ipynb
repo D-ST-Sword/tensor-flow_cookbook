{
 "cells": [
  {
   "cell_type": "markdown",
   "metadata": {},
   "source": [
    "# 批量训练和随机训练\n",
    "---\n",
    "\n",
    "Batch and Stochastic Training\n",
    "\n",
    "本节介绍两个训练方法：批量训练和随机训练。对每个模型，我们将使用回归模型来预测模型变量。\n",
    "\n",
    "首先加载必要的库并重置图："
   ]
  },
  {
   "cell_type": "code",
   "execution_count": 1,
   "metadata": {
    "collapsed": true
   },
   "outputs": [],
   "source": [
    "import matplotlib.pyplot as plt\n",
    "import tensorflow as tf\n",
    "import numpy as np\n",
    "from tensorflow.python.framework import ops\n",
    "ops.reset_default_graph()"
   ]
  },
  {
   "cell_type": "markdown",
   "metadata": {},
   "source": [
    "启动会话："
   ]
  },
  {
   "cell_type": "code",
   "execution_count": 2,
   "metadata": {
    "collapsed": true
   },
   "outputs": [],
   "source": [
    "sess = tf.Session()"
   ]
  },
  {
   "cell_type": "markdown",
   "metadata": {},
   "source": [
    "## 随机训练\n",
    "---\n",
    "\n",
    "### 生成数据\n",
    "\n",
    "我们将创建 100 个随机正态分布采样 Normal(mean=1, sd=0.1)。目标值是值为 10.0 大小为 100 的数组。\n",
    "\n",
    "我们还在图中为数据和目标创建必要的 placeholder。注意我们为随机训练使用 shape [1]。"
   ]
  },
  {
   "cell_type": "code",
   "execution_count": 3,
   "metadata": {
    "collapsed": true
   },
   "outputs": [],
   "source": [
    "x_vals = np.random.normal(1, 0.1, 100)\n",
    "y_vals = np.repeat(10., 100)\n",
    "\n",
    "x_data = tf.placeholder(shape=[1], dtype=tf.float32)\n",
    "y_target = tf.placeholder(shape=[1], dtype=tf.float32)"
   ]
  },
  {
   "cell_type": "markdown",
   "metadata": {},
   "source": [
    "### 模型变量和操作\n",
    "\n",
    "我们在图中创建一个变量 A，然后创建一个模型操作，它仅将输入数据与 A 相乘。"
   ]
  },
  {
   "cell_type": "code",
   "execution_count": 4,
   "metadata": {
    "collapsed": true
   },
   "outputs": [],
   "source": [
    "# 创建变量 A\n",
    "A = tf.Variable(tf.random_normal(shape=[1]))\n",
    "\n",
    "# 添加模型操作到图\n",
    "my_output = tf.multiply(x_data, A)"
   ]
  },
  {
   "cell_type": "markdown",
   "metadata": {},
   "source": [
    "### 损失函数\n",
    "\n",
    "我们为随机训练选择 L2 损失函数。当然可以很容易的置换为 L1 函数只要把 tf.square() 替换为 tf.abs()。"
   ]
  },
  {
   "cell_type": "code",
   "execution_count": 5,
   "metadata": {
    "collapsed": true
   },
   "outputs": [],
   "source": [
    "# 添加 L2 损失操作到图\n",
    "loss = tf.square(my_output - y_target)"
   ]
  },
  {
   "cell_type": "markdown",
   "metadata": {},
   "source": [
    "### 优化和初始化\n",
    "\n",
    "优化函数选标准梯度递减算法，学习率设为 0.02。然后添加并运行变量初始化操作。"
   ]
  },
  {
   "cell_type": "code",
   "execution_count": 6,
   "metadata": {
    "collapsed": true
   },
   "outputs": [],
   "source": [
    "# 创建优化器\n",
    "my_opt = tf.train.GradientDescentOptimizer(0.02)\n",
    "train_step = my_opt.minimize(loss)\n",
    "\n",
    "# 初始化变量\n",
    "init = tf.global_variables_initializer()\n",
    "sess.run(init)"
   ]
  },
  {
   "cell_type": "markdown",
   "metadata": {},
   "source": [
    "### 训练模型\n",
    "\n",
    "使用 100 次迭代步骤来训练模型并每 5 次迭代打印 A 值和损失值。"
   ]
  },
  {
   "cell_type": "code",
   "execution_count": 8,
   "metadata": {},
   "outputs": [
    {
     "name": "stdout",
     "output_type": "stream",
     "text": [
      "Step #5 A = [ 2.91149712]\n",
      "Loss = [ 47.44681549]\n",
      "Step #10 A = [ 4.22402239]\n",
      "Loss = [ 36.9659462]\n",
      "Step #15 A = [ 5.28184032]\n",
      "Loss = [ 23.73147583]\n",
      "Step #20 A = [ 6.13094044]\n",
      "Loss = [ 11.88314724]\n",
      "Step #25 A = [ 6.79626465]\n",
      "Loss = [ 8.86287403]\n",
      "Step #30 A = [ 7.38371754]\n",
      "Loss = [ 5.56315899]\n",
      "Step #35 A = [ 7.80018568]\n",
      "Loss = [ 7.87426901]\n",
      "Step #40 A = [ 8.17025375]\n",
      "Loss = [ 5.4639802]\n",
      "Step #45 A = [ 8.47998142]\n",
      "Loss = [ 0.82034904]\n",
      "Step #50 A = [ 8.70024776]\n",
      "Loss = [ 2.40972257]\n",
      "Step #55 A = [ 8.97129631]\n",
      "Loss = [ 0.33720574]\n",
      "Step #60 A = [ 9.20511436]\n",
      "Loss = [ 0.55105889]\n",
      "Step #65 A = [ 9.27409172]\n",
      "Loss = [ 0.09818865]\n",
      "Step #70 A = [ 9.49927616]\n",
      "Loss = [ 1.57330465]\n",
      "Step #75 A = [ 9.69234085]\n",
      "Loss = [ 1.26591468]\n",
      "Step #80 A = [ 9.7326498]\n",
      "Loss = [ 1.21059263]\n",
      "Step #85 A = [ 9.773839]\n",
      "Loss = [ 0.32789847]\n",
      "Step #90 A = [ 9.95015335]\n",
      "Loss = [ 0.71972936]\n",
      "Step #95 A = [ 10.02939415]\n",
      "Loss = [ 0.46106806]\n",
      "Step #100 A = [ 10.01886368]\n",
      "Loss = [ 0.001473]\n"
     ]
    }
   ],
   "source": [
    "loss_stochastic = []\n",
    "# Run loop\n",
    "for i in range(100):\n",
    "    rand_index = np.random.choice(100)\n",
    "    rand_x = [x_vals[rand_index]]\n",
    "    rand_y = [y_vals[rand_index]]\n",
    "    sess.run(train_step, feed_dict={x_data: rand_x, y_target: rand_y})\n",
    "    if (i+1) % 5 == 0:\n",
    "        print('Step #' + str(i+1) + ' A = ' + str(sess.run(A)))\n",
    "        temp_loss = sess.run(loss, feed_dict={x_data: rand_x, y_target: rand_y})\n",
    "        print('Loss = ' + str(temp_loss))\n",
    "        loss_stochastic.append(temp_loss)"
   ]
  },
  {
   "cell_type": "markdown",
   "metadata": {},
   "source": [
    "## 批量训练\n",
    "---\n",
    "\n",
    "重置计算图："
   ]
  },
  {
   "cell_type": "code",
   "execution_count": 9,
   "metadata": {
    "collapsed": true
   },
   "outputs": [],
   "source": [
    "# Batch Training:\n",
    "# 重新初始化图\n",
    "ops.reset_default_graph()\n",
    "sess = tf.Session()"
   ]
  },
  {
   "cell_type": "markdown",
   "metadata": {},
   "source": [
    "对于批量训练，我们需要声明 Batch size。size 越大越向优化值平滑收敛。但如果 size 过大的话，优化算法可能将陷入局部最小值，反而随机收敛可能会跳出。\n",
    "\n",
    "在这里，我们将从 1 到 100 范围内改变 batch size 的值来看 batch size 所带来的收敛效果。"
   ]
  },
  {
   "cell_type": "code",
   "execution_count": 10,
   "metadata": {
    "collapsed": true
   },
   "outputs": [],
   "source": [
    "# 声明 batch size\n",
    "batch_size = 25"
   ]
  },
  {
   "cell_type": "markdown",
   "metadata": {},
   "source": [
    "### 生成数据\n",
    "\n",
    "同随机训练的数据，但占位符（placeholder）为 batch size 预留了一位。"
   ]
  },
  {
   "cell_type": "code",
   "execution_count": 12,
   "metadata": {
    "collapsed": true
   },
   "outputs": [],
   "source": [
    "x_vals = np.random.normal(1, 0.1, 100)\n",
    "y_vals = np.repeat(10., 100)\n",
    "\n",
    "x_data = tf.placeholder(shape=[None, 1], dtype=tf.float32)\n",
    "y_target = tf.placeholder(shape=[None, 1], dtype=tf.float32)"
   ]
  },
  {
   "cell_type": "markdown",
   "metadata": {},
   "source": [
    "### 模型变量和操作\n",
    "\n",
    "同上"
   ]
  },
  {
   "cell_type": "code",
   "execution_count": 13,
   "metadata": {
    "collapsed": true
   },
   "outputs": [],
   "source": [
    "# Create variable (one model parameter = A)\n",
    "A = tf.Variable(tf.random_normal(shape=[1, 1]))\n",
    "\n",
    "# Add operation to graph\n",
    "my_output = tf.matmul(x_data, A)"
   ]
  },
  {
   "cell_type": "markdown",
   "metadata": {},
   "source": [
    "### 损失函数\n",
    "\n",
    "同上，但使用了减少均差包装"
   ]
  },
  {
   "cell_type": "code",
   "execution_count": 14,
   "metadata": {
    "collapsed": true
   },
   "outputs": [],
   "source": [
    "# L2 损失操作\n",
    "loss = tf.reduce_mean(tf.square(my_output - y_target))"
   ]
  },
  {
   "cell_type": "markdown",
   "metadata": {},
   "source": [
    "### 优化和初始化\n",
    "\n",
    "同上"
   ]
  },
  {
   "cell_type": "code",
   "execution_count": 15,
   "metadata": {
    "collapsed": true
   },
   "outputs": [],
   "source": [
    "# 创建优化器\n",
    "my_opt = tf.train.GradientDescentOptimizer(0.02)\n",
    "train_step = my_opt.minimize(loss)\n",
    "\n",
    "# 初始化变量\n",
    "init = tf.global_variables_initializer()\n",
    "sess.run(init)"
   ]
  },
  {
   "cell_type": "markdown",
   "metadata": {},
   "source": [
    "### 训练模型\n",
    "\n",
    "同上"
   ]
  },
  {
   "cell_type": "code",
   "execution_count": 16,
   "metadata": {},
   "outputs": [
    {
     "name": "stdout",
     "output_type": "stream",
     "text": [
      "Step #5 A = [[ 1.954386]]\n",
      "Loss = 64.2018\n",
      "Step #10 A = [[ 3.44956255]]\n",
      "Loss = 42.294\n",
      "Step #15 A = [[ 4.64929485]]\n",
      "Loss = 28.6664\n",
      "Step #20 A = [[ 5.62607336]]\n",
      "Loss = 18.6\n",
      "Step #25 A = [[ 6.422822]]\n",
      "Loss = 12.0482\n",
      "Step #30 A = [[ 7.05795527]]\n",
      "Loss = 7.54352\n",
      "Step #35 A = [[ 7.58534098]]\n",
      "Loss = 6.49288\n",
      "Step #40 A = [[ 7.99967289]]\n",
      "Loss = 4.56546\n",
      "Step #45 A = [[ 8.33324051]]\n",
      "Loss = 3.01565\n",
      "Step #50 A = [[ 8.62287045]]\n",
      "Loss = 2.93072\n",
      "Step #55 A = [[ 8.86142063]]\n",
      "Loss = 2.44408\n",
      "Step #60 A = [[ 9.03105068]]\n",
      "Loss = 2.20642\n",
      "Step #65 A = [[ 9.18919468]]\n",
      "Loss = 1.98875\n",
      "Step #70 A = [[ 9.32985878]]\n",
      "Loss = 1.85587\n",
      "Step #75 A = [[ 9.42984962]]\n",
      "Loss = 1.10387\n",
      "Step #80 A = [[ 9.51809406]]\n",
      "Loss = 0.789583\n",
      "Step #85 A = [[ 9.60044765]]\n",
      "Loss = 1.24699\n",
      "Step #90 A = [[ 9.67585754]]\n",
      "Loss = 1.03334\n",
      "Step #95 A = [[ 9.73099613]]\n",
      "Loss = 1.22274\n",
      "Step #100 A = [[ 9.76146221]]\n",
      "Loss = 1.03744\n"
     ]
    }
   ],
   "source": [
    "loss_batch = []\n",
    "# Run Loop\n",
    "for i in range(100):\n",
    "    rand_index = np.random.choice(100, size=batch_size)\n",
    "    rand_x = np.transpose([x_vals[rand_index]])\n",
    "    rand_y = np.transpose([y_vals[rand_index]])\n",
    "    sess.run(train_step, feed_dict={x_data: rand_x, y_target: rand_y})\n",
    "    if (i+1)%5==0:\n",
    "        print('Step #' + str(i+1) + ' A = ' + str(sess.run(A)))\n",
    "        temp_loss = sess.run(loss, feed_dict={x_data: rand_x, y_target: rand_y})\n",
    "        print('Loss = ' + str(temp_loss))\n",
    "        loss_batch.append(temp_loss)"
   ]
  },
  {
   "cell_type": "markdown",
   "metadata": {},
   "source": [
    "### 绘图看随机和批量训练的\n",
    "\n",
    "使用 matplotlib 代码绘制两个训练的结果。"
   ]
  },
  {
   "cell_type": "code",
   "execution_count": 17,
   "metadata": {},
   "outputs": [
    {
     "data": {
      "image/png": "[encoded data removed]",
      "text/plain": [
       "<matplotlib.figure.Figure at 0x11211ccf8>"
      ]
     },
     "metadata": {},
     "output_type": "display_data"
    }
   ],
   "source": [
    "plt.plot(range(0, 100, 5), loss_stochastic, 'b-', label='Stochastic Loss')\n",
    "plt.plot(range(0, 100, 5), loss_batch, 'r--', label='Batch Loss, size=25')\n",
    "plt.legend(loc='upper right', prop={'size': 11})\n",
    "plt.show()"
   ]
  },
  {
   "cell_type": "markdown",
   "metadata": {},
   "source": [
    "## 总结\n",
    "---\n",
    "\n",
    "我靠，与其重写一遍代码，还不如直接看 np.random.choice(100) 和 np.random.choice(100, size=25) 的区别"
   ]
  },
  {
   "cell_type": "code",
   "execution_count": 19,
   "metadata": {},
   "outputs": [
    {
     "name": "stdout",
     "output_type": "stream",
     "text": [
      "5\n",
      "6\n",
      "8\n",
      "7\n",
      "3\n",
      "2\n",
      "5\n",
      "4\n",
      "7\n",
      "1\n"
     ]
    }
   ],
   "source": [
    "for i in range(10):\n",
    "    print(np.random.choice(10))"
   ]
  },
  {
   "cell_type": "code",
   "execution_count": 20,
   "metadata": {},
   "outputs": [
    {
     "name": "stdout",
     "output_type": "stream",
     "text": [
      "[4 8 1]\n",
      "[1 0 6]\n",
      "[6 5 2]\n",
      "[8 4 7]\n",
      "[6 8 2]\n",
      "[6 3 4]\n",
      "[4 4 8]\n",
      "[5 7 9]\n",
      "[5 5 0]\n",
      "[4 3 7]\n"
     ]
    }
   ],
   "source": [
    "for i in range(10):\n",
    "    print(np.random.choice(10, size=3))"
   ]
  }
 ],
 "metadata": {
  "kernelspec": {
   "display_name": "Python 3",
   "language": "python",
   "name": "python3"
  },
  "language_info": {
   "codemirror_mode": {
    "name": "ipython",
    "version": 3
   },
   "file_extension": ".py",
   "mimetype": "text/x-python",
   "name": "python",
   "nbconvert_exporter": "python",
   "pygments_lexer": "ipython3",
   "version": "3.6.2"
  }
 },
 "nbformat": 4,
 "nbformat_minor": 2
}
