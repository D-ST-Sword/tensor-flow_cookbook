{
 "cells": [
  {
   "cell_type": "markdown",
   "metadata": {},
   "source": [
    "## 支持向量机介绍\n",
    "\n",
    "![png](./01_introduction.png)\n",
    "\n",
    "支持向量机（SVM）是分离二进制类的机器学习方法。这是通过最大化两个类之间的边距宽度来实现的。当两个类不是明确的线性可分离时，它被扩展以允许数据中的噪声。可以通过使用非线性内核将SVM扩展为单独的非线性类。之后，我们将通过显示如何通过一对一的方法将这些二进制分类扩展为多类问题来完成本章。"
   ]
  }
 ],
 "metadata": {
  "kernelspec": {
   "display_name": "Python 3",
   "language": "python",
   "name": "python3"
  },
  "language_info": {
   "codemirror_mode": {
    "name": "ipython",
    "version": 3
   },
   "file_extension": ".py",
   "mimetype": "text/x-python",
   "name": "python",
   "nbconvert_exporter": "python",
   "pygments_lexer": "ipython3",
   "version": "3.6.2"
  }
 },
 "nbformat": 4,
 "nbformat_minor": 2
}
