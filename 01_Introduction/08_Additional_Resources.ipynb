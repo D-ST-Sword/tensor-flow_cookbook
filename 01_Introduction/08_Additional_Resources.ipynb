{
 "cells": [
  {
   "cell_type": "markdown",
   "metadata": {},
   "source": [
    "# 附加资源\n",
    "\n",
    "### 官方资源\n",
    "\n",
    "- [Tensorflow Python API](https://www.tensorflow.org/api_docs/python/)\n",
    "- [Tensorflow 源码](https://github.com/tensorflow/tensorflow)\n",
    "- [Tensorflow 教程](https://www.tensorflow.org/tutorials/)\n",
    "- [Udacity 深度学习课程](https://www.udacity.com/course/deep-learning--ud730)\n",
    "- [Tensorflow 游乐场](http://playground.tensorflow.org/)\n",
    "\n",
    "\n",
    "### Github 教程和例子\n",
    "\n",
    "- [pkmital 教程](https://github.com/pkmital/tensorflow_tutorials)\n",
    "- [nlintz 教程](https://github.com/nlintz/TensorFlow-Tutorials)\n",
    "- [americdamien 应用实例](https://github.com/aymericdamien/TensorFlow-Examples)\n",
    "- [Tensorflow 实验班 - amygdala](https://github.com/amygdala/tensorflow-workshop)\n",
    "\n",
    "### 深度学习资源\n",
    "\n",
    "- [Efficient Back Prop by Yann LeCun, et. al.](http://yann.lecun.com/exdb/publis/pdf/lecun-98b.pdf)\n",
    "- [在线深度学习书籍, MIT Press](http://www.deeplearningbook.org/)\n",
    "- [梯度递减算法概览 Sebastian Ruder](http://sebastianruder.com/optimizing-gradient-descent/)\n",
    "- [随机过程优化 John Duchi, et. al.](http://www.jmlr.org/papers/volume12/duchi11a/duchi11a.pdf)\n",
    "- [ADADELTA 方法 Matthew Zeiler](http://arxiv.org/abs/1212.5701)\n",
    "- [Cross-Entropy Loss 介绍 Rob Dipietro](http://rdipietro.github.io/friendly-intro-to-cross-entropy-loss/)\n",
    "\n",
    "\n",
    "### 额外资源\n",
    "\n",
    "- [A Curated List of Dedicated TensorFlow Resources](https://github.com/jtoy/awesome-tensorflow/)\n",
    "\n",
    "\n",
    "### Arxiv Papers\n",
    "\n",
    "- [TensorFlow: Large-Scale Machine Learning on Heterogeneous Distributed Systems](http://arxiv.org/abs/1603.04467)\n",
    "- [TensorFlow: A system for large-scale machine learning](http://arxiv.org/abs/1605.08695)\n",
    "- [Distributed TensorFlow with MPI](https://arxiv.org/abs/1603.02339)\n",
    "- [Comparative Study of Deep Learning Software Frameworks](https://arxiv.org/abs/1511.06435)\n",
    "- [Wide & Deep Learning for Recommender Systems](https://arxiv.org/abs/1606.07792)"
   ]
  }
 ],
 "metadata": {
  "kernelspec": {
   "display_name": "Python 3",
   "language": "python",
   "name": "python3"
  },
  "language_info": {
   "codemirror_mode": {
    "name": "ipython",
    "version": 3
   },
   "file_extension": ".py",
   "mimetype": "text/x-python",
   "name": "python",
   "nbconvert_exporter": "python",
   "pygments_lexer": "ipython3",
   "version": "3.6.2"
  }
 },
 "nbformat": 4,
 "nbformat_minor": 2
}
