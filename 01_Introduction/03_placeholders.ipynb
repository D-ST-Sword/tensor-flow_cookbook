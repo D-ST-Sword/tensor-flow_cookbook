{
 "cells": [
  {
   "cell_type": "markdown",
   "metadata": {},
   "source": [
    "# Placeholders\n",
    "\n",
    "本节介绍 tf 中 placeholders 的使用\n",
    "\n",
    "首先引入必要的库并重置图会话"
   ]
  },
  {
   "cell_type": "code",
   "execution_count": 1,
   "metadata": {
    "collapsed": true
   },
   "outputs": [],
   "source": [
    "import numpy as np\n",
    "import tensorflow as tf\n",
    "from tensorflow.python.framework import ops\n",
    "ops.reset_default_graph()"
   ]
  },
  {
   "cell_type": "markdown",
   "metadata": {},
   "source": [
    "启动图会话"
   ]
  },
  {
   "cell_type": "code",
   "execution_count": 2,
   "metadata": {
    "collapsed": true
   },
   "outputs": [],
   "source": [
    "sess = tf.Session()"
   ]
  },
  {
   "cell_type": "markdown",
   "metadata": {},
   "source": [
    "## 声明 placeholder\n",
    "\n",
    "使用 tf.placeholder() 声明，这个函数需要一个 data-type 的参数（如：(tf.float32)）和一个 shape 参数（如：(4, 4)），shape 可以是一个 tuple 或一个 list, [4, 4]。"
   ]
  },
  {
   "cell_type": "code",
   "execution_count": 3,
   "metadata": {
    "collapsed": true
   },
   "outputs": [],
   "source": [
    "x = tf.placeholder(tf.float32, shape=(4, 4))"
   ]
  },
  {
   "cell_type": "markdown",
   "metadata": {},
   "source": [
    "为解释如何使用 placeholder，我们将创建输入数据并在 tensorboard 上进行可视化操作。\n",
    "\n",
    "feed_dict 被灌进下面代码中的 x 做为计算图的输入"
   ]
  },
  {
   "cell_type": "code",
   "execution_count": 5,
   "metadata": {},
   "outputs": [
    {
     "name": "stdout",
     "output_type": "stream",
     "text": [
      "[[ 0.8980962   0.38655609  0.45680138  0.89613879]\n",
      " [ 0.73327023  0.98645008  0.97123688  0.27100194]\n",
      " [ 0.09518064  0.73233223  0.19613877  0.35742587]\n",
      " [ 0.69028497  0.67017615  0.27320266  0.17602079]]\n"
     ]
    }
   ],
   "source": [
    "# 灌数据到 placeholder， ‘rand_array’ 和 'x' 有相同的 shape\n",
    "rand_array = np.random.rand(4, 4)\n",
    "\n",
    "# 创建一个 tensor 用于执行操作（y 和 x 相同，是一个 4x4 矩阵）\n",
    "y = tf.identity(x)\n",
    "\n",
    "# 打印输出，用 x 的值灌进计算图\n",
    "print(sess.run(y, feed_dict={x: rand_array}))"
   ]
  },
  {
   "cell_type": "markdown",
   "metadata": {},
   "source": [
    "要在 Tensorboard 可视化，我们合并概要并写进 log 文件"
   ]
  },
  {
   "cell_type": "code",
   "execution_count": 6,
   "metadata": {
    "collapsed": true
   },
   "outputs": [],
   "source": [
    "merged = tf.summary.merge_all()\n",
    "writer = tf.summary.FileWriter('./variable_logs', sess.graph)"
   ]
  },
  {
   "cell_type": "markdown",
   "metadata": {},
   "source": [
    "在终端中执行如下命令：\n",
    "\n",
    "```\n",
    "$ tensorboard --logdir=./\n",
    "```\n",
    "\n",
    "然后在浏览器中打开：\n",
    "\n",
    "http://0.0.0.0:6006/\n",
    "\n",
    "![png](./03.png)"
   ]
  }
 ],
 "metadata": {
  "kernelspec": {
   "display_name": "Python 3",
   "language": "python",
   "name": "python3"
  },
  "language_info": {
   "codemirror_mode": {
    "name": "ipython",
    "version": 3
   },
   "file_extension": ".py",
   "mimetype": "text/x-python",
   "name": "python",
   "nbconvert_exporter": "python",
   "pygments_lexer": "ipython3",
   "version": "3.6.2"
  }
 },
 "nbformat": 4,
 "nbformat_minor": 2
}
