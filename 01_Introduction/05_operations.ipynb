{
 "cells": [
  {
   "cell_type": "markdown",
   "metadata": {},
   "source": [
    "# 变量操作\n",
    "\n",
    "本节介绍 tf 中的变量操作。\n",
    "\n",
    "声明操作"
   ]
  },
  {
   "cell_type": "code",
   "execution_count": 2,
   "metadata": {},
   "outputs": [],
   "source": [
    "import matplotlib.pyplot as plt\n",
    "import numpy as np\n",
    "import tensorflow as tf\n",
    "from tensorflow.python.framework import ops\n",
    "ops.reset_default_graph()"
   ]
  },
  {
   "cell_type": "markdown",
   "metadata": {},
   "source": [
    "## 打开图会话"
   ]
  },
  {
   "cell_type": "code",
   "execution_count": 3,
   "metadata": {
    "collapsed": true
   },
   "outputs": [],
   "source": [
    "sess = tf.Session()"
   ]
  },
  {
   "cell_type": "markdown",
   "metadata": {},
   "source": [
    "## 算数操作\n",
    "\n",
    "tf 拥有多类型的数学函数。这里先解释一下 div()，truediv() 和 floordiv() 的区别。\n",
    "\n",
    "- div(): 整数除法（和 python 中的 '/' 类似）\n",
    "- truediv(): 会将整形数转为浮点数\n",
    "- floordiv(): 浮点数除法"
   ]
  },
  {
   "cell_type": "code",
   "execution_count": 4,
   "metadata": {},
   "outputs": [
    {
     "name": "stdout",
     "output_type": "stream",
     "text": [
      "0\n",
      "0.75\n",
      "0.0\n"
     ]
    }
   ],
   "source": [
    "print(sess.run(tf.div(3, 4)))\n",
    "print(sess.run(tf.truediv(3, 4)))\n",
    "print(sess.run(tf.floordiv(3., 4.)))"
   ]
  },
  {
   "cell_type": "markdown",
   "metadata": {},
   "source": [
    "Mod 函数"
   ]
  },
  {
   "cell_type": "code",
   "execution_count": 5,
   "metadata": {},
   "outputs": [
    {
     "name": "stdout",
     "output_type": "stream",
     "text": [
      "2.0\n"
     ]
    }
   ],
   "source": [
    "print(sess.run(tf.mod(22.0, 5.0)))"
   ]
  },
  {
   "cell_type": "markdown",
   "metadata": {},
   "source": [
    "与非操作（cross）"
   ]
  },
  {
   "cell_type": "code",
   "execution_count": 6,
   "metadata": {},
   "outputs": [
    {
     "name": "stdout",
     "output_type": "stream",
     "text": [
      "[ 0.  0.  1.]\n"
     ]
    }
   ],
   "source": [
    "print(sess.run(tf.cross([1., 0., 0.], [0., 1., 0.])))"
   ]
  },
  {
   "cell_type": "markdown",
   "metadata": {},
   "source": [
    "## 三角函数\n",
    "\n",
    "sine, cosine, tangent:"
   ]
  },
  {
   "cell_type": "code",
   "execution_count": 7,
   "metadata": {},
   "outputs": [
    {
     "name": "stdout",
     "output_type": "stream",
     "text": [
      "2.53518e-06\n",
      "-1.0\n",
      "0.999999\n"
     ]
    }
   ],
   "source": [
    "print(sess.run(tf.sin(3.14159)))\n",
    "print(sess.run(tf.cos(3.14159)))\n",
    "print(sess.run(tf.div(tf.sin(3.14159/4.), tf.cos(3.14159/4.))))"
   ]
  },
  {
   "cell_type": "markdown",
   "metadata": {},
   "source": [
    "## 自定义操作\n",
    "\n",
    "这里将创建一个多项式函数：\n",
    "f(x) = 3 * x^2 - x + 10"
   ]
  },
  {
   "cell_type": "code",
   "execution_count": 10,
   "metadata": {},
   "outputs": [
    {
     "name": "stdout",
     "output_type": "stream",
     "text": [
      "362\n"
     ]
    }
   ],
   "source": [
    "test_nums = range(15)\n",
    "\n",
    "def custom_polynomial(x_val):\n",
    "    # 返回 3x^2 - x + 10，运行不过换成 tf.sub() 试试\n",
    "    return tf.subtract(3 * tf.square(x_val), x_val) + 10\n",
    "\n",
    "print(sess.run(custom_polynomial(11)))"
   ]
  },
  {
   "cell_type": "markdown",
   "metadata": {},
   "source": [
    "猜猜运行下面的代码会有什么结果：（我靠，哥可是 python 老鸟！）"
   ]
  },
  {
   "cell_type": "code",
   "execution_count": 11,
   "metadata": {},
   "outputs": [
    {
     "name": "stdout",
     "output_type": "stream",
     "text": [
      "[10, 12, 20, 34, 54, 80, 112, 150, 194, 244, 300, 362, 430, 504, 584]\n"
     ]
    }
   ],
   "source": [
    "expected_output = [3*x**2 - x + 10 for x in test_nums]\n",
    "print(expected_output)"
   ]
  },
  {
   "cell_type": "markdown",
   "metadata": {},
   "source": [
    "tf 自定义函数的输出："
   ]
  },
  {
   "cell_type": "code",
   "execution_count": 12,
   "metadata": {},
   "outputs": [
    {
     "name": "stdout",
     "output_type": "stream",
     "text": [
      "10\n",
      "12\n",
      "20\n",
      "34\n",
      "54\n",
      "80\n",
      "112\n",
      "150\n",
      "194\n",
      "244\n",
      "300\n",
      "362\n",
      "430\n",
      "504\n",
      "584\n"
     ]
    }
   ],
   "source": [
    "for num in test_nums:\n",
    "    print(sess.run(custom_polynomial(num)))"
   ]
  }
 ],
 "metadata": {
  "kernelspec": {
   "display_name": "Python 3",
   "language": "python",
   "name": "python3"
  },
  "language_info": {
   "codemirror_mode": {
    "name": "ipython",
    "version": 3
   },
   "file_extension": ".py",
   "mimetype": "text/x-python",
   "name": "python",
   "nbconvert_exporter": "python",
   "pygments_lexer": "ipython3",
   "version": "3.6.2"
  }
 },
 "nbformat": 4,
 "nbformat_minor": 2
}
