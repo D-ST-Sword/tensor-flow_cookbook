{
 "cells": [
  {
   "cell_type": "markdown",
   "metadata": {},
   "source": [
    "# Tensors\n",
    "\n",
    "*本节介绍多种创建 tensor 的方法*\n",
    "\n",
    "> tensor: 类似于向量但比向量更一般的数学对象，由空间坐标系中的一组函数表示。\n",
    "\n",
    "首先加载 tensorflow 并重置计算图"
   ]
  },
  {
   "cell_type": "code",
   "execution_count": 1,
   "metadata": {
    "collapsed": true
   },
   "outputs": [],
   "source": [
    "import tensorflow as tf\n",
    "from tensorflow.python.framework import ops\n",
    "ops.reset_default_graph()"
   ]
  },
  {
   "cell_type": "markdown",
   "metadata": {},
   "source": [
    "## 启动图会话（graph session）\n",
    "\n",
    "使用 tf.Session() 取得图句柄"
   ]
  },
  {
   "cell_type": "code",
   "execution_count": 3,
   "metadata": {
    "collapsed": true
   },
   "outputs": [],
   "source": [
    "sess = tf.Session()"
   ]
  },
  {
   "cell_type": "markdown",
   "metadata": {},
   "source": [
    "## 创建 Tensors\n",
    "\n",
    "Tensorflow 可使用內建函数创建用于变量的 tensor。例如，使用 tf.zeros() 来创建预定义形状的0值 tensor"
   ]
  },
  {
   "cell_type": "code",
   "execution_count": 5,
   "metadata": {
    "collapsed": true
   },
   "outputs": [],
   "source": [
    "my_tensor = tf.zeros([1, 20])"
   ]
  },
  {
   "cell_type": "markdown",
   "metadata": {},
   "source": [
    "使用 run() 方法来对 tensor 进行评估"
   ]
  },
  {
   "cell_type": "code",
   "execution_count": 6,
   "metadata": {},
   "outputs": [
    {
     "data": {
      "text/plain": [
       "array([[ 0.,  0.,  0.,  0.,  0.,  0.,  0.,  0.,  0.,  0.,  0.,  0.,  0.,\n",
       "         0.,  0.,  0.,  0.,  0.,  0.,  0.]], dtype=float32)"
      ]
     },
     "execution_count": 6,
     "metadata": {},
     "output_type": "execute_result"
    }
   ],
   "source": [
    "sess.run(my_tensor)"
   ]
  },
  {
   "cell_type": "markdown",
   "metadata": {},
   "source": [
    "tf 算法需要知道哪些对象是常量哪些是变量。在本章后面会解释这两者的区别。现在我们使用 tf.Variable() 创建一个变量"
   ]
  },
  {
   "cell_type": "code",
   "execution_count": 7,
   "metadata": {
    "collapsed": true
   },
   "outputs": [],
   "source": [
    "my_var = tf.Variable(tf.zeros([1, 20]))"
   ]
  },
  {
   "cell_type": "markdown",
   "metadata": {},
   "source": [
    "注意，现在还不能运行 sess.run(my_var)，因为 tf 使用计算图进行计算，为了计算变量我们得先对变量进行初始化操作。后面会看到更多的这种操作。在这里，我们使用 my_var.initializer 初始化一个变量"
   ]
  },
  {
   "cell_type": "code",
   "execution_count": 9,
   "metadata": {},
   "outputs": [
    {
     "data": {
      "text/plain": [
       "array([[ 0.,  0.,  0.,  0.,  0.,  0.,  0.,  0.,  0.,  0.,  0.,  0.,  0.,\n",
       "         0.,  0.,  0.,  0.,  0.,  0.,  0.]], dtype=float32)"
      ]
     },
     "execution_count": 9,
     "metadata": {},
     "output_type": "execute_result"
    }
   ],
   "source": [
    "sess.run(my_var.initializer)\n",
    "sess.run(my_var)"
   ]
  },
  {
   "cell_type": "markdown",
   "metadata": {},
   "source": [
    "为创建特定形状的变量，让我们先声明行列的大小"
   ]
  },
  {
   "cell_type": "code",
   "execution_count": 10,
   "metadata": {
    "collapsed": true
   },
   "outputs": [],
   "source": [
    "row_dim = 2\n",
    "col_dim = 3"
   ]
  },
  {
   "cell_type": "markdown",
   "metadata": {},
   "source": [
    "然后使用0值和1值函数声明行和列变量"
   ]
  },
  {
   "cell_type": "code",
   "execution_count": 11,
   "metadata": {
    "collapsed": true
   },
   "outputs": [],
   "source": [
    "zero_var = tf.Variable(tf.zeros([row_dim, col_dim]))\n",
    "ones_var = tf.Variable(tf.ones([row_dim, col_dim]))"
   ]
  },
  {
   "cell_type": "markdown",
   "metadata": {},
   "source": [
    "同样的，使用初始化函数初始化变量，然后 run 来赋值它们的内容"
   ]
  },
  {
   "cell_type": "code",
   "execution_count": 13,
   "metadata": {},
   "outputs": [
    {
     "name": "stdout",
     "output_type": "stream",
     "text": [
      "[[ 0.  0.  0.]\n",
      " [ 0.  0.  0.]]\n",
      "[[ 1.  1.  1.]\n",
      " [ 1.  1.  1.]]\n"
     ]
    }
   ],
   "source": [
    "sess.run(zero_var.initializer)\n",
    "sess.run(ones_var.initializer)\n",
    "print(sess.run(zero_var))\n",
    "print(sess.run(ones_var))"
   ]
  },
  {
   "cell_type": "markdown",
   "metadata": {},
   "source": [
    "## 拷贝其他 tensor 的形状来创建新 tensor\n",
    "\n",
    "可以使用內建函数 ones_like() 或 zeros_like() 来拷贝其他 tensor 的形状"
   ]
  },
  {
   "cell_type": "code",
   "execution_count": 14,
   "metadata": {},
   "outputs": [
    {
     "name": "stdout",
     "output_type": "stream",
     "text": [
      "[[ 0.  0.  0.]\n",
      " [ 0.  0.  0.]]\n",
      "[[ 1.  1.  1.]\n",
      " [ 1.  1.  1.]]\n"
     ]
    }
   ],
   "source": [
    "zero_similar = tf.Variable(tf.zeros_like(zero_var))\n",
    "ones_similar = tf.Variable(tf.ones_like(ones_var))\n",
    "\n",
    "sess.run(zero_similar.initializer)\n",
    "sess.run(ones_similar.initializer)\n",
    "print(sess.run(zero_similar))\n",
    "print(sess.run(ones_similar))"
   ]
  },
  {
   "cell_type": "markdown",
   "metadata": {},
   "source": [
    "## 使用常量填充 tensor\n",
    "\n",
    "👇使用常量填充 tensor"
   ]
  },
  {
   "cell_type": "code",
   "execution_count": 15,
   "metadata": {},
   "outputs": [
    {
     "data": {
      "text/plain": [
       "array([[-1, -1, -1],\n",
       "       [-1, -1, -1]], dtype=int32)"
      ]
     },
     "execution_count": 15,
     "metadata": {},
     "output_type": "execute_result"
    }
   ],
   "source": [
    "fill_var = tf.Variable(tf.fill([row_dim, col_dim], -1))\n",
    "sess.run(fill_var.initializer)\n",
    "sess.run(fill_var)"
   ]
  },
  {
   "cell_type": "markdown",
   "metadata": {},
   "source": [
    "我们也可以从常量数组或列表创建 tensor 变量"
   ]
  },
  {
   "cell_type": "code",
   "execution_count": 16,
   "metadata": {},
   "outputs": [
    {
     "name": "stdout",
     "output_type": "stream",
     "text": [
      "[8 6 7 5 3 0 9]\n",
      "[[-1 -1 -1]\n",
      " [-1 -1 -1]]\n"
     ]
    }
   ],
   "source": [
    "# 从常量创建 tensor 变量\n",
    "const_var = tf.Variable(tf.constant([8, 6, 7, 5, 3, 0, 9]))\n",
    "# 也可用于填充数组\n",
    "const_fill_var = tf.Variable(tf.constant(-1, shape=[row_dim, col_dim]))\n",
    "\n",
    "sess.run(const_var.initializer)\n",
    "sess.run(const_fill_var.initializer)\n",
    "\n",
    "print(sess.run(const_var))\n",
    "print(sess.run(const_fill_var))"
   ]
  },
  {
   "cell_type": "markdown",
   "metadata": {},
   "source": [
    "## 从序列和 Ranges 中创建 tensor\n",
    "\n",
    "我们也可以从序列生成函数生成 tensor。tf 的 linspace() 函数和 range() 函数和 python/numpy 的操作非常相似。"
   ]
  },
  {
   "cell_type": "code",
   "execution_count": 17,
   "metadata": {},
   "outputs": [
    {
     "name": "stdout",
     "output_type": "stream",
     "text": [
      "[ 0.   0.5  1. ]\n",
      "[ 6  9 12]\n"
     ]
    }
   ],
   "source": [
    "# tf 的 linspace\n",
    "linear_var = tf.Variable(tf.linspace(start=0.0, stop=1.0, num=3))\n",
    "\n",
    "# tf 的 range\n",
    "sequence_var = tf.Variable(tf.range(start=6, limit=15, delta=3))\n",
    "\n",
    "sess.run(linear_var.initializer)\n",
    "sess.run(sequence_var.initializer)\n",
    "print(sess.run(linear_var))\n",
    "print(sess.run(sequence_var))"
   ]
  },
  {
   "cell_type": "markdown",
   "metadata": {},
   "source": [
    "## 随机数字 tensor\n",
    "\n",
    "我们也可以如下从随机数字中初始化 tensor"
   ]
  },
  {
   "cell_type": "code",
   "execution_count": 18,
   "metadata": {},
   "outputs": [
    {
     "name": "stdout",
     "output_type": "stream",
     "text": [
      "[[-0.24349093  0.94837433  0.25947404]\n",
      " [ 1.02237809  0.20368837  1.39328873]]\n",
      "[[ 1.80642462  2.8393364   0.04007864]\n",
      " [ 1.98358107  1.11683178  0.17710972]]\n"
     ]
    }
   ],
   "source": [
    "rnorm_var = tf.random_normal([row_dim, col_dim], mean=0.0, stddev=1.0)\n",
    "runif_var = tf.random_uniform([row_dim, col_dim], minval=0, maxval=4)\n",
    "print(sess.run(rnorm_var))\n",
    "print(sess.run(runif_var))"
   ]
  },
  {
   "cell_type": "markdown",
   "metadata": {},
   "source": [
    "## 在 TensorBoard 中可视化变量创建过程\n",
    "\n",
    "为了能可视化变量的创建过程（第11章有更多细节），我们将重置计算图并创建一个全局的初始化操作"
   ]
  },
  {
   "cell_type": "code",
   "execution_count": 19,
   "metadata": {
    "collapsed": true
   },
   "outputs": [],
   "source": [
    "# 重置图\n",
    "ops.reset_default_graph()\n",
    "\n",
    "# 重启动会话\n",
    "sess = tf.Session()\n",
    "\n",
    "# 创建变量\n",
    "my_var = tf.Variable(tf.zeros([1, 20]))\n",
    "\n",
    "# 添加概要到 tensorboard\n",
    "merged = tf.summary.merge_all()\n",
    "\n",
    "# 初始化图 writer\n",
    "writer = tf.summary.FileWriter('./variable_logs', graph=sess.graph)\n",
    "\n",
    "# 初始化操作\n",
    "initialize_op = tf.global_variables_initializer()\n",
    "\n",
    "# 运行“初始化操作”\n",
    "sess.run(initialize_op)"
   ]
  },
  {
   "cell_type": "markdown",
   "metadata": {},
   "source": [
    "然后在终端运行如下命令\n",
    "\n",
    "```\n",
    "$ tensorboard --logdir=./\n",
    "```\n",
    "\n",
    "然后在打开其提示的链接，默认为 http://0.0.0.0:6006/ 将会看到 tensor 变量的初始化过程\n",
    "\n",
    "![png](./02.png)"
   ]
  }
 ],
 "metadata": {
  "kernelspec": {
   "display_name": "Python 3",
   "language": "python",
   "name": "python3"
  },
  "language_info": {
   "codemirror_mode": {
    "name": "ipython",
    "version": 3
   },
   "file_extension": ".py",
   "mimetype": "text/x-python",
   "name": "python",
   "nbconvert_exporter": "python",
   "pygments_lexer": "ipython3",
   "version": "3.6.2"
  }
 },
 "nbformat": 4,
 "nbformat_minor": 2
}
