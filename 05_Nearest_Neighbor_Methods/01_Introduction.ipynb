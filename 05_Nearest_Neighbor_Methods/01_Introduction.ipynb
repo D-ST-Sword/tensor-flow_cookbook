{
 "cells": [
  {
   "cell_type": "markdown",
   "metadata": {},
   "source": [
    "# 简介\n",
    "\n",
    "最近邻方法基于一个简单的想法。我们把训练集做为模型，并根据新点在训练集中的远近来预测。最简单的方法是将预测做为最接近的训练数据点的分类。但由于大多数数据集包含一定程度的噪音，因此更常用的方式是采用一组 k 个最近邻的加权平均值。这种方法被称为 k-最近邻（k-NN）\n",
    "\n",
    "给定训练集 $(x_1, x_2, \\cdots, x_n)$，和对应目标集 $y_1, y_2, \\cdots, y_n$，我们可以通过查看一组最近的邻居来对一个点 z 进行预测。 实际的预测方法取决于我们是否做回归（连续）或分类（离散）。\n",
    "\n",
    "对于离散分类目标，预测可以由到预测点的距离加权的最大投票方案给出：\n",
    "\n",
    "$$f(z) = \\max_j \\sum_{i=1}^{k} \\varphi (d_{ij}) I_{ij}$$\n",
    "\n",
    "这里，我们的预测，$f(z)$ 是所有类的最大加权值，j 是预测点到训练集点的加权距离，i 由 $\\varphi(d_{ij})$ 给出，$I_{ij}$ 是指示函数来指示点 i 是否在类 j 里。\n",
    "\n",
    "对连续回归的目标集，预测由所有 k 点的加权平均值决定：\n",
    "\n",
    "$$f(z) = \\frac{1}{k}\\sum_{i=1}^{k}\\varphi(d_i)$$\n",
    "\n",
    "很明显的这个预测严重依赖所选择的距离度量 d 的选择。\n",
    "\n",
    "距离度量的常用的是 L1 和 L2 距离：\n",
    "\n",
    "$$d_{L1}(x_i, x_j) = \\left|x_i - x_j \\right| = \\left|x_{i1} - x_{j1}\\right| + \\left|x_{i2} - x_{j2}\\right| + \\cdots$$\n",
    "\n",
    "$$d_{L2}(x_i, x_j) = \\|x_i - x_j\\| = \\sqrt{(x_{i1} - x_{j1})^2 + (x_i2 - x_j2)^2 + \\cdots}$$"
   ]
  },
  {
   "cell_type": "markdown",
   "metadata": {},
   "source": [
    "还有好多其他的距离度量方法供我们选择。本章我们将探讨 L1 和 L2 度量以及编辑和文字距离"
   ]
  }
 ],
 "metadata": {
  "kernelspec": {
   "display_name": "Python 3",
   "language": "python",
   "name": "python3"
  },
  "language_info": {
   "codemirror_mode": {
    "name": "ipython",
    "version": 3
   },
   "file_extension": ".py",
   "mimetype": "text/x-python",
   "name": "python",
   "nbconvert_exporter": "python",
   "pygments_lexer": "ipython3",
   "version": "3.6.2"
  }
 },
 "nbformat": 4,
 "nbformat_minor": 2
}
